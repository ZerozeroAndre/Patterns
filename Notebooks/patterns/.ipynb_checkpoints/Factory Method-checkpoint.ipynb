{
 "cells": [
  {
   "cell_type": "markdown",
   "metadata": {},
   "source": [
    "# Суть паттерна"
   ]
  },
  {
   "cell_type": "markdown",
   "metadata": {},
   "source": [
    "### Фабричный метод - это порождающий паттерн проектирования, который определяет общий интерфейс для создания объектов в суперклассе, позволяя подклассам изменять тип создаваемых объектов"
   ]
  },
  {
   "cell_type": "markdown",
   "metadata": {},
   "source": [
    "### Фабричный метод - это порождающий паттерн проектирования, который решает проблему создания различных продуктов, без указания конкретных классов продуктов"
   ]
  },
  {
   "cell_type": "code",
   "execution_count": null,
   "metadata": {},
   "outputs": [],
   "source": [
    "from __future__ import annotations\n",
    "from abc import ABC, abstractmethod\n",
    "\n",
    "class Creator(ABC):\n",
    "    \"\"\"\n",
    "    Класс Создатель объявляет фабричный метод, который должен возвращать объект класса Продукт.\n",
    "    Подклассы Создателя обычно предоставляют реализацию этого метода.\n",
    "    \n",
    "    \"\"\"\n",
    "    @abstractmethod\n",
    "    def factory_method(self):\n",
    "        \"\"\"\n",
    "        Обратите внимание, что Создатель может также обеспечить реализацию фабричного метода по умолчанию\n",
    "        \"\"\"\n",
    "        pass\n",
    "    \n",
    "    def some_operation(self) -> str:\n",
    "        \"\"\"\n",
    "        Также заметьте, что, несмотря на название, основная обязанность Создателя не заключается в создании продуктов.\n",
    "        Обычно он содержит некоторую базовую бизнес-логику, которая основана на объектах Продуктов,\n",
    "        возвращаемых фабричным методом.\n",
    "        Подклассы могут косвенно изменять эту бизнес-логику, переопределяя фабричный метод и возвращая из него другой тип продукта.\n",
    "        \"\"\"\n",
    "        # Вызываем фабриный метод, чтобы получить объект-продукт\n",
    "        product = self.factory_method()\n",
    "        \n",
    "        # Далее, работаем с этим продуктом.\n",
    "        result = f\"Creator: The same creator's code has just worked with {product.operation()}\"\n",
    "        \n",
    "        return result\n",
    "    \n",
    "    \"\"\"\n",
    "    Конкретные Создатели переопределяют фабричный метод для того, чтобы изменить тип \n",
    "    результурющего продукта.\n",
    "    \n",
    "    \"\"\"\n",
    "    \n",
    "    class ConcreteCreator1(Creator):\n",
    "        \"\"\"\n",
    "        Обратите внимание, что сигнатура метода по-прежнему использует тип \n",
    "        абстрактного продукта, хотя фактически из метода возвращается конкретный продукт.\n",
    "        Таким образом, Создатель может оставаться независимым от конкретных классов продуктов.\n",
    "        \"\"\"\n",
    "        \n",
    "        def factory_method(self) -> ConcreteProduct1:\n",
    "            return ConcreteProduct1()\n",
    "        \n",
    "    class ConcreteCreator2(Creator):\n",
    "        def factory_method(self) -> ConcreteProduct2:\n",
    "            return ConcreteProduct2()\n",
    "        \n",
    "    class Product(ABC):\n",
    "        \"\"\"\n",
    "        Интерфейс Продукта объявляет операции, которые должны выполнить все конкретные продукты.\n",
    "        \"\"\"\n",
    "        \n",
    "        @abstractmethod\n",
    "        def operation(self) -> str:\n",
    "            pass\n",
    "        \n",
    "        \n",
    "        \"\"\"\n",
    "        Конкретные Продукты предоставляют различные интерфейсы Продукта.\n",
    "        \"\"\"\n",
    "        \n",
    "        class ConcreteProduct1(Product):\n",
    "            def operation(self) -> str:\n",
    "                return \"{Resul of the ConcreteProduct1}\"\n",
    "            \n",
    "        class ConcreteProduct2(Product):\n",
    "            def operation(self) -> str:\n",
    "                return \"{Result of the ConcreteProduct2}\"\n",
    "            \n",
    "        def client_code(creator: Creator) -> None:\n",
    "            \"\"\"\n",
    "            Клиентский код работает с экземпляром конкретного создателя, хотя и через его базовый интерфейс. Пока клиент продолжает работать с создателем\n",
    "            через базовый интерфейс, вы можете передать ему любой подкласс создателя.\n",
    "            \"\"\"\n",
    "            \n",
    "            print(f\"Client: I'm not aware of the creator's class, but it still works.\\n\"\n",
    "                  f\"{creator.some_operation()}\", end=\"\")\n",
    "            \n",
    "            if __name__ == \"__main__\":\n",
    "                print(\"App: Launched with the ConcreteCreator1.\")\n",
    "                client_code(ConcreteCreator1())\n",
    "                print(\"\\n\")\n",
    "                \n",
    "                print(\"App: Launched with the ConcreteCreator2.\")\n",
    "                client_code(ConcreteCreator2())"
   ]
  }
 ],
 "metadata": {
  "kernelspec": {
   "display_name": "Python 3",
   "language": "python",
   "name": "python3"
  },
  "language_info": {
   "codemirror_mode": {
    "name": "ipython",
    "version": 3
   },
   "file_extension": ".py",
   "mimetype": "text/x-python",
   "name": "python",
   "nbconvert_exporter": "python",
   "pygments_lexer": "ipython3",
   "version": "3.7.4"
  }
 },
 "nbformat": 4,
 "nbformat_minor": 2
}
